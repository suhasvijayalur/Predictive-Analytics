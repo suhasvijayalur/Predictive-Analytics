{
 "cells": [
  {
   "cell_type": "code",
   "execution_count": 1,
   "metadata": {
    "collapsed": true
   },
   "outputs": [],
   "source": [
    "# We first import the requests library\n",
    "import requests\n",
    "url = 'http://freegeoip.net/json/'\n",
    "resp = requests.get(url)"
   ]
  },
  {
   "cell_type": "code",
   "execution_count": 2,
   "metadata": {
    "collapsed": false
   },
   "outputs": [
    {
     "data": {
      "text/plain": [
       "<Response [200]>"
      ]
     },
     "execution_count": 2,
     "metadata": {},
     "output_type": "execute_result"
    }
   ],
   "source": [
    "# The resp object encapsulates the \"response\" of the server\n",
    "# Notice the status code that is displayed. \n",
    "# Code 200 means that things went fine\n",
    "# Code 404 means that the URL was not found\n",
    "# Codes 5xx mean that something went wrong\n",
    "resp"
   ]
  },
  {
   "cell_type": "code",
   "execution_count": 3,
   "metadata": {
    "collapsed": false
   },
   "outputs": [
    {
     "name": "stdout",
     "output_type": "stream",
     "text": [
      "('Everything was ok:', 200)\n"
     ]
    }
   ],
   "source": [
    "if (resp.status_code == 200):\n",
    "    print(\"Everything was ok:\", resp.status_code)\n",
    "else:\n",
    "    print(\"There was a problem:\", resp.status_code)"
   ]
  },
  {
   "cell_type": "code",
   "execution_count": 4,
   "metadata": {
    "collapsed": false
   },
   "outputs": [
    {
     "data": {
      "text/plain": [
       "u'{\"ip\":\"131.212.251.126\",\"country_code\":\"US\",\"country_name\":\"United States\",\"region_code\":\"MN\",\"region_name\":\"Minnesota\",\"city\":\"Minneapolis\",\"zip_code\":\"55414\",\"time_zone\":\"America/Chicago\",\"latitude\":44.9759,\"longitude\":-93.2166,\"metro_code\":613}\\n'"
      ]
     },
     "execution_count": 4,
     "metadata": {},
     "output_type": "execute_result"
    }
   ],
   "source": [
    "# Let's see the content of the response\n",
    "# As you can see, it contain the JSON response\n",
    "resp.text"
   ]
  },
  {
   "cell_type": "code",
   "execution_count": 5,
   "metadata": {
    "collapsed": true
   },
   "outputs": [],
   "source": [
    "# We want to transform the JSON file into a Python dictionary object\n",
    "# For that we will use the json library\n",
    "import json\n",
    "\n",
    "# The loads (LOADS = LOAD from String) function reads a string that represents a JSON file\n",
    "data = json.loads(resp.text)"
   ]
  },
  {
   "cell_type": "code",
   "execution_count": 6,
   "metadata": {
    "collapsed": false
   },
   "outputs": [
    {
     "data": {
      "text/plain": [
       "{u'city': u'Minneapolis',\n",
       " u'country_code': u'US',\n",
       " u'country_name': u'United States',\n",
       " u'ip': u'131.212.248.254',\n",
       " u'latitude': 44.9759,\n",
       " u'longitude': -93.2166,\n",
       " u'metro_code': 613,\n",
       " u'region_code': u'MN',\n",
       " u'region_name': u'Minnesota',\n",
       " u'time_zone': u'America/Chicago',\n",
       " u'zip_code': u'55414'}"
      ]
     },
     "execution_count": 6,
     "metadata": {},
     "output_type": "execute_result"
    }
   ],
   "source": [
    "# Now data is a Python dictionary\n",
    "# The u'....' characters mean that the string is represented in Unicode\n",
    "data"
   ]
  },
  {
   "cell_type": "code",
   "execution_count": 7,
   "metadata": {
    "collapsed": false
   },
   "outputs": [
    {
     "name": "stdout",
     "output_type": "stream",
     "text": [
      "('Lon:', -93.2166, 'Lat:', 44.9759)\n"
     ]
    }
   ],
   "source": [
    "# And we can access the fields of the JSON as we normally access Python dictionary entries\n",
    "print(\"Lon:\", data[\"longitude\"], \"Lat:\", data[\"latitude\"])"
   ]
  },
  {
   "cell_type": "code",
   "execution_count": null,
   "metadata": {
    "collapsed": true
   },
   "outputs": [],
   "source": []
  }
 ],
 "metadata": {
  "anaconda-cloud": {},
  "kernelspec": {
   "display_name": "Python [conda root]",
   "language": "python",
   "name": "conda-root-py"
  },
  "language_info": {
   "codemirror_mode": {
    "name": "ipython",
    "version": 2
   },
   "file_extension": ".py",
   "mimetype": "text/x-python",
   "name": "python",
   "nbconvert_exporter": "python",
   "pygments_lexer": "ipython2",
   "version": "2.7.12"
  }
 },
 "nbformat": 4,
 "nbformat_minor": 1
}
