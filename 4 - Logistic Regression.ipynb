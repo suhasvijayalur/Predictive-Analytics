{
 "cells": [
  {
   "cell_type": "code",
   "execution_count": 3,
   "metadata": {
    "collapsed": true
   },
   "outputs": [],
   "source": [
    "# This script illustrates the usage of Logistic Regression for classification. \n",
    "\n",
    "%matplotlib inline\n",
    "# import necessary libraries and specify that graphs should be plotted inline. \n",
    "from sklearn.datasets import load_iris\n",
    "from sklearn import linear_model\n",
    "from sklearn.cross_validation import cross_val_score\n",
    "\n",
    "# load the data set\n",
    "# See '2 - Decision Trees' for a description of this data set\n",
    "iris = load_iris()"
   ]
  },
  {
   "cell_type": "code",
   "execution_count": 6,
   "metadata": {
    "collapsed": false
   },
   "outputs": [
    {
     "name": "stdout",
     "output_type": "stream",
     "text": [
      "[ 1.          1.          1.          0.93333333  0.93333333  0.93333333\n",
      "  0.86666667  1.          1.          1.        ]\n"
     ]
    }
   ],
   "source": [
    "# we create an instance of the Classifier\n",
    "# Logistic Regression (aka logit, MaxEnt) classifier.\n",
    "clf = linear_model.LogisticRegression(C=1e5)\n",
    "# c is the inverse of regularization strength; must be a positive float. Like in support vector machines, \n",
    "# smaller values specify stronger regularization.\n",
    "# It can handle both dense and sparse input. Use C-ordered arrays or CSR matrices containing 64-bit floats for\n",
    "# optimal performance; any other input format will be converted (and copied).\n",
    "# In the multiclass case, the training algorithm uses the one-vs-rest (OvR) scheme if the ‘multi_class’ option is\n",
    "# set to ‘ovr’ and uses the cross-entropy loss, if the ‘multi_class’ option is set to ‘multinomial’. \n",
    "\n",
    "# Train the model (fit the data)\n",
    "# As with other classifiers, DecisionTreeClassifier takes as input two arrays: an array X, sparse or dense, of size [n_samples, n_features] holding the training samples, and an array Y of integer values, size [n_samples], holding the class labels for the training samples:\n",
    "clf = clf.fit(iris.data, iris.target)\n",
    "# The underlying C implementation uses a random number generator to select features when fitting the model.\n",
    "# It is thus not uncommon, to have slightly different results for the same input data. If that happens, try with a\n",
    "# smaller tol parameter.\n",
    "\n",
    "# Evaluate performance\n",
    "print cross_val_score(clf, iris.data, iris.target, cv=10)\n",
    "# returns an array of scores of the estimator for each run of the cross validation.\n",
    "# The simplest way to use cross-validation"
   ]
  },
  {
   "cell_type": "code",
   "execution_count": 8,
   "metadata": {
    "collapsed": false
   },
   "outputs": [
    {
     "name": "stdout",
     "output_type": "stream",
     "text": [
      "The 1st instance is predicted to belong to class: [0]\n",
      "The probabilities of belonging to each one of the classes are estimated as: [[  9.24216676e-01   7.57833244e-02   2.33911886e-27]]\n"
     ]
    }
   ],
   "source": [
    "# After being fitted, the model can then be used to predict the class of samples:\n",
    "print 'The 1st instance is predicted to belong to class:', clf.predict(iris.data[:1, :])\n",
    "\n",
    "# Alternatively, the probability of each class can be predicted, which is the fraction of training samples of the same class in a leaf:\n",
    "print 'The probabilities of belonging to each one of the classes are estimated as:', clf.predict_proba(iris.data[:1, :])\n",
    "\n",
    "# Try also clf.decision_function(X)\n",
    "# It predicts confidence scores for samples.\n",
    "# The confidence score for a sample is the signed distance of that sample to the hyperplane."
   ]
  },
  {
   "cell_type": "code",
   "execution_count": 9,
   "metadata": {
    "collapsed": false
   },
   "outputs": [
    {
     "data": {
      "image/png": "[encoded data removed]",
      "text/plain": [
       "<matplotlib.figure.Figure at 0x905dc18>"
      ]
     },
     "metadata": {},
     "output_type": "display_data"
    }
   ],
   "source": [
    "## Decision Boundary Visualization\n",
    "# Plot the decision surface of the classifier\n",
    "import numpy as np\n",
    "import matplotlib.pyplot as plt\n",
    "\n",
    "# Parameters\n",
    "featureA, featureB = 0, 3 # select two variables to visualize\n",
    "plot_colors = \"bry\"\n",
    "plot_step = 0.02  # step size in the mesh\n",
    "\n",
    "X = iris.data[:, [featureA, featureB] ] # We only take the two corresponding features\n",
    "y = iris.target\n",
    "\n",
    "n_classes = len(set(y))\n",
    "\n",
    "# Train\n",
    "clf = clf.fit(X, y) # we train again the model as we will use only two variables to visualize the decision boundaries\n",
    "\n",
    "# Plot the decision boundary. For that, we will assign a color to each\n",
    "# point in the mesh [x_min, m_max]x[y_min, y_max].   \n",
    "x_min, x_max = X[:, 0].min() - 1, X[:, 0].max() + 1\n",
    "y_min, y_max = X[:, 1].min() - 1, X[:, 1].max() + 1\n",
    "xx, yy = np.meshgrid(np.arange(x_min, x_max, plot_step),\n",
    "                         np.arange(y_min, y_max, plot_step))\n",
    "\n",
    "Z = clf.predict(np.c_[xx.ravel(), yy.ravel()])\n",
    "Z = Z.reshape(xx.shape)\n",
    "cs = plt.contourf(xx, yy, Z, cmap=plt.cm.Paired)\n",
    "\n",
    "plt.xlabel(iris.feature_names[featureA])\n",
    "plt.ylabel(iris.feature_names[featureB])\n",
    "plt.axis(\"tight\")\n",
    "\n",
    "# Plot the training points\n",
    "for i, color in zip(range(n_classes), plot_colors):\n",
    "    idx = np.where(y == i)\n",
    "    plt.scatter(X[idx, 0], X[idx, 1], c=color, label=iris.target_names[i],\n",
    "                cmap=plt.cm.Paired)\n",
    "\n",
    "plt.axis(\"tight\")\n",
    "\n",
    "plt.suptitle(\"Decision surface of a logistic regression classifier\")\n",
    "plt.legend()\n",
    "plt.show()"
   ]
  },
  {
   "cell_type": "code",
   "execution_count": null,
   "metadata": {
    "collapsed": true
   },
   "outputs": [],
   "source": [
    "# You can repeat the above process by selecting different attributes.\n",
    "\n",
    "# Exercise (3 minutes):\n",
    "# Plot the decision boundaries of logistic regression using different sets of attributes. \n",
    "\n",
    "# ...write your code here..."
   ]
  },
  {
   "cell_type": "code",
   "execution_count": 5,
   "metadata": {
    "collapsed": true
   },
   "outputs": [],
   "source": [
    "# Compare the decision boundaries against the ones produced from the other classification methods used in the previous scripts. "
   ]
  }
 ],
 "metadata": {
  "anaconda-cloud": {},
  "kernelspec": {
   "display_name": "Python [Root]",
   "language": "python",
   "name": "Python [Root]"
  },
  "language_info": {
   "codemirror_mode": {
    "name": "ipython",
    "version": 2
   },
   "file_extension": ".py",
   "mimetype": "text/x-python",
   "name": "python",
   "nbconvert_exporter": "python",
   "pygments_lexer": "ipython2",
   "version": "2.7.12"
  }
 },
 "nbformat": 4,
 "nbformat_minor": 0
}
