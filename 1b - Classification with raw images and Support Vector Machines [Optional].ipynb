{
 "cells": [
  {
   "cell_type": "code",
   "execution_count": 2,
   "metadata": {
    "collapsed": false
   },
   "outputs": [
    {
     "data": {
      "image/png": "[encoded data removed]",
      "text/plain": [
       "<matplotlib.figure.Figure at 0x8c4fb70>"
      ]
     },
     "metadata": {},
     "output_type": "display_data"
    },
    {
     "data": {
      "image/png": "[encoded data removed]",
      "text/plain": [
       "<matplotlib.figure.Figure at 0x3d868d0>"
      ]
     },
     "metadata": {},
     "output_type": "display_data"
    }
   ],
   "source": [
    "# Support Vector Machines (SVMs) belong to the discriminant model family: they try to find a combination of samples to build\n",
    "# a plane maximizing the margin between the two classes. \n",
    "\n",
    "# This script illustrates the usage of SVMs for image classification. \n",
    "\n",
    "%matplotlib inline\n",
    "# import necessary libraries and specify that graphs should be plotted inline. \n",
    "from sklearn import datasets\n",
    "import matplotlib.pyplot as plt\n",
    "\n",
    "# load dataset\n",
    "# This method will Load and return the digits dataset (classification).\n",
    "digits = datasets.load_digits()\n",
    "\n",
    "# The data that we are interested in is made of 8x8 images of digits, let's\n",
    "# have a look at the first 3 images, stored in the `images` attribute of the\n",
    "# dataset. \n",
    "# If we were working from image files, we could load them using\n",
    "# pylab.imread. \n",
    "# Note that each image must have the same size. For these images, we know which digit they represent: \n",
    "# it is given in the 'target' of the dataset.\n",
    "images_and_labels = list(zip(digits.images, digits.target))\n",
    "for index, (image, label) in enumerate(images_and_labels[:4]):\n",
    "    plt.subplot(2, 4, index + 1)\n",
    "    plt.axis('off')\n",
    "    plt.imshow(image, cmap=plt.cm.gray_r, interpolation='nearest')\n",
    "    plt.title('Training: %i' % label)\n",
    "\n",
    "# Visualize one instance of the data set\n",
    "plt.gray() \n",
    "plt.matshow(digits.images[5]) \n",
    "plt.show() "
   ]
  },
  {
   "cell_type": "code",
   "execution_count": 3,
   "metadata": {
    "collapsed": false
   },
   "outputs": [],
   "source": [
    "# When the data is not initially in the (n_samples, n_features) shape, it needs to be preprocessed in order to\n",
    "# be used by scikit-learn.\n",
    "# To apply a classifier on this data, we need to flatten the image, to\n",
    "# turn the data in a (samples, feature) matrix:\n",
    "n_samples = len(digits.images)\n",
    "data = digits.images.reshape((n_samples, -1))\n",
    "\n",
    "X, y = data, digits.target\n",
    "\n",
    "# split the data set, this is an alternative approach\n",
    "splitpoint = int(n_samples / 2)\n",
    "X_train, X_test = X[:splitpoint], X[splitpoint:]\n",
    "y_train, y_test = y[:splitpoint], y[splitpoint:]"
   ]
  },
  {
   "cell_type": "code",
   "execution_count": 4,
   "metadata": {
    "collapsed": false
   },
   "outputs": [],
   "source": [
    "## Create a classifier: a support vector classifier\n",
    "from sklearn import svm\n",
    "classifier = svm.SVC(gamma=0.001)\n",
    "# Regularization is set by the C parameter: a small value for C means the margin is calculated using many or all of the \n",
    "# observations around the separating line (more regularization);\n",
    "# a large value for C means the margin is calculated on observations close to the separating line (less regularization).\n",
    "\n",
    "# Hyper-parameters of an estimator can be updated after it has been constructed via the\n",
    "# sklearn.pipeline.Pipeline.set_params method. \n",
    "\n",
    "# train the classifier on the training set\n",
    "classifier = svm.SVC().fit(X_train, y_train)"
   ]
  },
  {
   "cell_type": "code",
   "execution_count": 5,
   "metadata": {
    "collapsed": false
   },
   "outputs": [
    {
     "name": "stdout",
     "output_type": "stream",
     "text": [
      "Classification report for classifier SVC(C=1.0, cache_size=200, class_weight=None, coef0=0.0,\n",
      "  decision_function_shape=None, degree=3, gamma='auto', kernel='rbf',\n",
      "  max_iter=-1, probability=False, random_state=None, shrinking=True,\n",
      "  tol=0.001, verbose=False):\n",
      "             precision    recall  f1-score   support\n",
      "\n",
      "          0       1.00      0.43      0.60        88\n",
      "          1       1.00      0.55      0.71        91\n",
      "          2       1.00      0.34      0.50        86\n",
      "          3       1.00      0.59      0.74        91\n",
      "          4       1.00      0.29      0.45        92\n",
      "          5       0.14      1.00      0.25        91\n",
      "          6       1.00      0.36      0.53        91\n",
      "          7       1.00      0.28      0.44        89\n",
      "          8       1.00      0.01      0.02        88\n",
      "          9       1.00      0.09      0.16        92\n",
      "\n",
      "avg / total       0.91      0.40      0.44       899\n",
      "\n",
      "\n",
      "Confusion matrix:\n",
      "[[38  0  0  0  0 50  0  0  0  0]\n",
      " [ 0 50  0  0  0 41  0  0  0  0]\n",
      " [ 0  0 29  0  0 57  0  0  0  0]\n",
      " [ 0  0  0 54  0 37  0  0  0  0]\n",
      " [ 0  0  0  0 27 65  0  0  0  0]\n",
      " [ 0  0  0  0  0 91  0  0  0  0]\n",
      " [ 0  0  0  0  0 58 33  0  0  0]\n",
      " [ 0  0  0  0  0 64  0 25  0  0]\n",
      " [ 0  0  0  0  0 87  0  0  1  0]\n",
      " [ 0  0  0  0  0 84  0  0  0  8]]\n"
     ]
    }
   ],
   "source": [
    "## Now predict the value of the digit on the test set:\n",
    "from sklearn import metrics\n",
    "\n",
    "# generate predictions\n",
    "predicted = classifier.predict(X_test)\n",
    "actual = y_test # just for clarity, actual = digits.target[n_samples / 2:] = y_test\n",
    "\n",
    "# Build a text report showing the main classification metrics\n",
    "print(\"Classification report for classifier %s:\\n%s\\n\"\n",
    "      % (classifier, metrics.classification_report(actual, predicted)))\n",
    "\n",
    "# Compute confusion matrix to evaluate the accuracy of a classification\n",
    "print(\"Confusion matrix:\\n%s\" % metrics.confusion_matrix(actual, predicted))\n",
    "# Wikipedia entry of confusion matrix: https://en.wikipedia.org/wiki/Confusion_matrix"
   ]
  },
  {
   "cell_type": "code",
   "execution_count": 6,
   "metadata": {
    "collapsed": false
   },
   "outputs": [
    {
     "data": {
      "image/png": "[encoded data removed]",
      "text/plain": [
       "<matplotlib.figure.Figure at 0x72fcb38>"
      ]
     },
     "metadata": {},
     "output_type": "display_data"
    }
   ],
   "source": [
    "## Error analysis\n",
    "\n",
    "# examine specific cases (actual vs predicted values)\n",
    "images_and_predictions = list(zip(digits.images[splitpoint:], predicted))\n",
    "for index, (image, prediction) in enumerate(images_and_predictions[:4]):\n",
    "    plt.subplot(2, 4, index + 5)\n",
    "    plt.axis('off')\n",
    "    plt.imshow(image, cmap=plt.cm.gray_r, interpolation='nearest')\n",
    "    plt.title('Prediction: %i' % prediction)\n",
    "\n",
    "plt.show()"
   ]
  },
  {
   "cell_type": "code",
   "execution_count": 7,
   "metadata": {
    "collapsed": true
   },
   "outputs": [],
   "source": [
    "# In this example we set the value of gamma manually. \n",
    "# It is possible to automatically find good values for the parameters by using tools such as grid search and cross validation."
   ]
  }
 ],
 "metadata": {
  "anaconda-cloud": {},
  "kernelspec": {
   "display_name": "Python [Root]",
   "language": "python",
   "name": "Python [Root]"
  },
  "language_info": {
   "codemirror_mode": {
    "name": "ipython",
    "version": 2
   },
   "file_extension": ".py",
   "mimetype": "text/x-python",
   "name": "python",
   "nbconvert_exporter": "python",
   "pygments_lexer": "ipython2",
   "version": "2.7.12"
  }
 },
 "nbformat": 4,
 "nbformat_minor": 0
}
